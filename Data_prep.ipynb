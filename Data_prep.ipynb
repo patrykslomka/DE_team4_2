{
 "cells": [
  {
   "cell_type": "code",
   "execution_count": null,
   "id": "initial_id",
   "metadata": {
    "ExecuteTime": {
     "end_time": "2024-11-20T09:45:14.302077Z",
     "start_time": "2024-11-20T09:45:12.037825Z"
    },
    "collapsed": true
   },
   "outputs": [
    {
     "name": "stdout",
     "output_type": "stream",
     "text": [
      "+------------+-----+------+----+-------------------+--------+----------+-------+-----------+------+--------------------+---------+--------+---------+---------+-----------+--------+--------------------+--------------------+-----+-----+-----+---------+-----------+---------------+--------+-------+-------+-----------+-----------------+-----------+---------------+-----------+---------------+---------+--------------------+------------+--------------------+--------------------+-------------+-------+-----------+---------+-------------+------------+----------------+-----+-------+-------+-----------+---------+-------------+------------+----------------+-----+-------+-------+-----------+--------------------+--------+------+---------+------+---------+------+-----------+-----------+-----------+----------+------+--------+-------+---------+-------------+------+----------+--------------+------+----------+--------------+---------+---------+-------------+------------+--------------------+---------+-------------+------------+----------------+---------+-------------+------------+----------------+---------+-------------+------------+----------------+--------------------+-----+-------+--------+------+--------+--------+--------+----------+--------------------+---------+--------------------+---------+--------+----------+------+-----+------+-------------+------+---------+-----------+----------+------------+----------+--------------+------------------+---------+--------+--------------------+--------------+------------+--------+-------+--------+--------------------+-------+-------+----------+\n",
      "|     eventid|iyear|imonth|iday|         approxdate|extended|resolution|country|country_txt|region|          region_txt|provstate|    city| latitude|longitude|specificity|vicinity|            location|             summary|crit1|crit2|crit3|doubtterr|alternative|alternative_txt|multiple|success|suicide|attacktype1|  attacktype1_txt|attacktype2|attacktype2_txt|attacktype3|attacktype3_txt|targtype1|       targtype1_txt|targsubtype1|    targsubtype1_txt|               corp1|      target1|natlty1|natlty1_txt|targtype2|targtype2_txt|targsubtype2|targsubtype2_txt|corp2|target2|natlty2|natlty2_txt|targtype3|targtype3_txt|targsubtype3|targsubtype3_txt|corp3|target3|natlty3|natlty3_txt|               gname|gsubname|gname2|gsubname2|gname3|gsubname3|motive|guncertain1|guncertain2|guncertain3|individual|nperps|nperpcap|claimed|claimmode|claimmode_txt|claim2|claimmode2|claimmode2_txt|claim3|claimmode3|claimmode3_txt|compclaim|weaptype1|weaptype1_txt|weapsubtype1|    weapsubtype1_txt|weaptype2|weaptype2_txt|weapsubtype2|weapsubtype2_txt|weaptype3|weaptype3_txt|weapsubtype3|weapsubtype3_txt|weaptype4|weaptype4_txt|weapsubtype4|weapsubtype4_txt|          weapdetail|nkill|nkillus|nkillter|nwound|nwoundus|nwoundte|property|propextent|      propextent_txt|propvalue|         propcomment|ishostkid|nhostkid|nhostkidus|nhours|ndays|divert|kidhijcountry|ransom|ransomamt|ransomamtus|ransompaid|ransompaidus|ransomnote|hostkidoutcome|hostkidoutcome_txt|nreleased|addnotes|              scite1|        scite2|      scite3|dbsource|INT_LOG|INT_IDEO|            INT_MISC|INT_ANY|related|event_date|\n",
      "+------------+-----+------+----+-------------------+--------+----------+-------+-----------+------+--------------------+---------+--------+---------+---------+-----------+--------+--------------------+--------------------+-----+-----+-----+---------+-----------+---------------+--------+-------+-------+-----------+-----------------+-----------+---------------+-----------+---------------+---------+--------------------+------------+--------------------+--------------------+-------------+-------+-----------+---------+-------------+------------+----------------+-----+-------+-------+-----------+---------+-------------+------------+----------------+-----+-------+-------+-----------+--------------------+--------+------+---------+------+---------+------+-----------+-----------+-----------+----------+------+--------+-------+---------+-------------+------+----------+--------------+------+----------+--------------+---------+---------+-------------+------------+--------------------+---------+-------------+------------+----------------+---------+-------------+------------+----------------+---------+-------------+------------+----------------+--------------------+-----+-------+--------+------+--------+--------+--------+----------+--------------------+---------+--------------------+---------+--------+----------+------+-----+------+-------------+------+---------+-----------+----------+------------+----------+--------------+------------------+---------+--------+--------------------+--------------+------------+--------+-------+--------+--------------------+-------+-------+----------+\n",
      "|201412030034| 2015|     1|   3|2015-01-03 00:00:00|       0|      NULL|     95|       Iraq|    10|Middle East & Nor...|  Baghdad| Baghdad|33.303566|44.371773|          1|       0|                NULL|01/03/2015: An ex...|    1|    1|    1|        0|       NULL|           NULL|       0|      1|      0|          3|Bombing/Explosion|       NULL|           NULL|       NULL|           NULL|       14|Private Citizens ...|          73|Vehicles/Transpor...|      Not Applicable|      Minibus|     95|       Iraq|     NULL|         NULL|        NULL|            NULL| NULL|   NULL|   NULL|       NULL|     NULL|         NULL|        NULL|            NULL| NULL|   NULL|   NULL|       NULL|             Unknown|    NULL|  NULL|     NULL|  NULL|     NULL|  NULL|          0|       NULL|       NULL|         0|   -99|       0|      0|     NULL|         NULL|  NULL|      NULL|          NULL|  NULL|      NULL|          NULL|     NULL|        6|   Explosives|          15|             Vehicle|     NULL|         NULL|        NULL|            NULL|     NULL|         NULL|        NULL|            NULL|     NULL|         NULL|        NULL|            NULL|An explosive devi...|    2|      0|       0|     5|       0|       0|       1|         3|Minor (likely < $...|      -99|A minibus was dam...|        0|    NULL|      NULL|  NULL| NULL|  NULL|         NULL|  NULL|     NULL|       NULL|      NULL|        NULL|      NULL|          NULL|              NULL|     NULL|    NULL|\"\"\"Iraq: Roundup ...|\"\" OSC Summary| December 31|  2014.\"|   NULL|    NULL|START Primary Col...|     -9|     -9|2015-01-03|\n",
      "|201501010001| 2015|     1|   1|               NULL|       0|      NULL|     95|       Iraq|    10|Middle East & Nor...|  Baghdad| Baghdad|33.303566|44.371773|          1|       0|                NULL|01/01/2015: An ex...|    1|    1|    1|        0|       NULL|           NULL|       0|      1|      0|          3|Bombing/Explosion|       NULL|           NULL|       NULL|           NULL|        8|Educational Insti...|          48|Teacher/Professor...|University of Bag...|     Lecturer|     95|       Iraq|     NULL|         NULL|        NULL|            NULL| NULL|   NULL|   NULL|       NULL|     NULL|         NULL|        NULL|            NULL| NULL|   NULL|   NULL|       NULL|             Unknown|    NULL|  NULL|     NULL|  NULL|     NULL|  NULL|          0|       NULL|       NULL|         0|   -99|       0|      0|     NULL|         NULL|  NULL|      NULL|          NULL|  NULL|      NULL|          NULL|     NULL|        6|   Explosives|          15|             Vehicle|     NULL|         NULL|        NULL|            NULL|     NULL|         NULL|        NULL|            NULL|     NULL|         NULL|        NULL|            NULL|                NULL|    1|      0|       0|     1|       0|       0|       1|         3|Minor (likely < $...|      -99|A vehicle was dam...|        0|    NULL|      NULL|  NULL| NULL|  NULL|         NULL|  NULL|     NULL|       NULL|      NULL|        NULL|      NULL|          NULL|              NULL|     NULL|    NULL|\"\"\"Iraq: Roundup ...|\"\" OSC Summary| December 31|  2014.\"|   NULL|    NULL|START Primary Col...|     -9|     -9|2015-01-01|\n",
      "|201501010003| 2015|     1|   1|2015-01-01 00:00:00|       0|      NULL|    113|      Libya|    10|Middle East & Nor...| Benghazi|Benghazi|32.069286|20.151144|          1|       0|                NULL|01/01/2015: Assai...|    1|    1|    1|        0|       NULL|           NULL|       0|      1|      0|          3|Bombing/Explosion|       NULL|           NULL|       NULL|           NULL|       17|Terrorists/Non-St...|          94|   Non-State Militia|      Haftar Militia|     204 Camp|    113|      Libya|     NULL|         NULL|        NULL|            NULL| NULL|   NULL|   NULL|       NULL|     NULL|         NULL|        NULL|            NULL| NULL|   NULL|   NULL|       NULL|Shura Council of ...|    NULL|  NULL|     NULL|  NULL|     NULL|  NULL|          0|       NULL|       NULL|         0|   -99|       0|      0|     NULL|         NULL|  NULL|      NULL|          NULL|  NULL|      NULL|          NULL|     NULL|        6|   Explosives|          11|Projectile (rocke...|     NULL|         NULL|        NULL|            NULL|     NULL|         NULL|        NULL|            NULL|     NULL|         NULL|        NULL|            NULL|Two tanks were us...| NULL|      0|    NULL|  NULL|       0|    NULL|      -9|      NULL|                NULL|     NULL|It is unknown if ...|        0|    NULL|      NULL|  NULL| NULL|  NULL|         NULL|  NULL|     NULL|       NULL|      NULL|        NULL|      NULL|          NULL|              NULL|     NULL|    NULL|\"\"\"Libya: Open So...|\"\" OSC Summary| December 31|  2014.\"|   NULL|    NULL|START Primary Col...|      0|      0|2015-01-01|\n",
      "|201501010004| 2015|     1|   1|               NULL|       0|      NULL|     95|       Iraq|    10|Middle East & Nor...|  Baghdad| Baghdad|33.303566|44.371773|          1|       0|                NULL|01/01/2015: An ex...|    1|    1|    1|        0|       NULL|           NULL|       0|      1|      0|          3|Bombing/Explosion|       NULL|           NULL|       NULL|           NULL|        1|            Business|           7|Retail/Grocery/Ba...|             Unknown|Produce Store|     95|       Iraq|     NULL|         NULL|        NULL|            NULL| NULL|   NULL|   NULL|       NULL|     NULL|         NULL|        NULL|            NULL| NULL|   NULL|   NULL|       NULL|             Unknown|    NULL|  NULL|     NULL|  NULL|     NULL|  NULL|          0|       NULL|       NULL|         0|   -99|       0|      0|     NULL|         NULL|  NULL|      NULL|          NULL|  NULL|      NULL|          NULL|     NULL|        6|   Explosives|          16|Unknown Explosive...|     NULL|         NULL|        NULL|            NULL|     NULL|         NULL|        NULL|            NULL|     NULL|         NULL|        NULL|            NULL|                NULL|    3|      0|       0|     8|       0|       0|       1|         3|Minor (likely < $...|      -99|A store was damag...|        0|    NULL|      NULL|  NULL| NULL|  NULL|         NULL|  NULL|     NULL|       NULL|      NULL|        NULL|      NULL|          NULL|              NULL|     NULL|    NULL|\"\"\"Iraq: Roundup ...|\"\" OSC Summary| December 31|  2014.\"|   NULL|    NULL|START Primary Col...|     -9|     -9|2015-01-01|\n",
      "|201501010005| 2015|     1|   1|               NULL|       0|      NULL|     95|       Iraq|    10|Middle East & Nor...|  Baghdad| Baghdad|33.303566|44.371773|          1|       0|The incident occu...|01/01/2015: An ex...|    1|    1|    1|        0|       NULL|           NULL|       0|      1|      0|          3|Bombing/Explosion|       NULL|           NULL|       NULL|           NULL|       14|Private Citizens ...|          79|Public Area (gard...|      Not Applicable|     Car Park|     95|       Iraq|     NULL|         NULL|        NULL|            NULL| NULL|   NULL|   NULL|       NULL|     NULL|         NULL|        NULL|            NULL| NULL|   NULL|   NULL|       NULL|             Unknown|    NULL|  NULL|     NULL|  NULL|     NULL|  NULL|          0|       NULL|       NULL|         0|   -99|       0|      0|     NULL|         NULL|  NULL|      NULL|          NULL|  NULL|      NULL|          NULL|     NULL|        6|   Explosives|          16|Unknown Explosive...|     NULL|         NULL|        NULL|            NULL|     NULL|         NULL|        NULL|            NULL|     NULL|         NULL|        NULL|            NULL|                NULL|    1|      0|       0|     6|       0|       0|      -9|      NULL|                NULL|     NULL|It is unknown if ...|        0|    NULL|      NULL|  NULL| NULL|  NULL|         NULL|  NULL|     NULL|       NULL|      NULL|        NULL|      NULL|          NULL|              NULL|     NULL|    NULL|\"\"\"Iraq: Roundup ...|\"\" OSC Summary| December 31|  2014.\"|   NULL|    NULL|START Primary Col...|     -9|     -9|2015-01-01|\n",
      "+------------+-----+------+----+-------------------+--------+----------+-------+-----------+------+--------------------+---------+--------+---------+---------+-----------+--------+--------------------+--------------------+-----+-----+-----+---------+-----------+---------------+--------+-------+-------+-----------+-----------------+-----------+---------------+-----------+---------------+---------+--------------------+------------+--------------------+--------------------+-------------+-------+-----------+---------+-------------+------------+----------------+-----+-------+-------+-----------+---------+-------------+------------+----------------+-----+-------+-------+-----------+--------------------+--------+------+---------+------+---------+------+-----------+-----------+-----------+----------+------+--------+-------+---------+-------------+------+----------+--------------+------+----------+--------------+---------+---------+-------------+------------+--------------------+---------+-------------+------------+----------------+---------+-------------+------------+----------------+---------+-------------+------------+----------------+--------------------+-----+-------+--------+------+--------+--------+--------+----------+--------------------+---------+--------------------+---------+--------+----------+------+-----+------+-------------+------+---------+-----------+----------+------------+----------+--------------+------------------+---------+--------+--------------------+--------------+------------+--------+-------+--------+--------------------+-------+-------+----------+\n",
      "only showing top 5 rows\n",
      "\n"
     ]
    }
   ],
   "source": [
    "from pyspark.sql import SparkSession\n",
    "from pyspark.sql.functions import col, concat_ws, to_date, date_format, sum, count\n",
    "\n",
    "\n",
    "# Spark Session\n",
    "spark = SparkSession.builder.appName(\"GTD_ACLED_Analysis\").getOrCreate()\n",
    "\n",
    "# GTD Dataset\n",
    "gtd = \"globalterrorismdb_0718dist.csv\"\n",
    "gtd_df = spark.read.csv(gtd, header=True, inferSchema=True)\n",
    "\n",
    "# Filtering for scope of the project - Asia and years 2015-17\n",
    "gtd_filtered = gtd_df.filter(\n",
    "    (col(\"region_txt\").isin([\"Middle East & North Africa\", \"South Asia\", \"Southeast Asia\"])) &\n",
    "    (col(\"iyear\").between(2015, 2017))\n",
    ")\n",
    "\n",
    "# Generalizing the event_date\n",
    "gtd_cleaned = gtd_filtered.withColumn(\n",
    "    \"event_date\", to_date(concat_ws(\"-\", col(\"iyear\"), col(\"imonth\"), col(\"iday\")))\n",
    ")\n",
    "\n",
    "# Result\n",
    "gtd_cleaned.show(5)\n"
   ]
  },
  {
   "cell_type": "code",
   "execution_count": null,
   "id": "6a3620bc",
   "metadata": {},
   "outputs": [
    {
     "name": "stdout",
     "output_type": "stream",
     "text": [
      "+-------+---+-------------+----------------+----------+----+--------------+---------------+--------------------+-------------+------+--------------------+--------------------+------+-----------+-----------+---------+----------+---------+-------+--------------------+--------+---------+-------------+--------------------+--------------------+--------------------+----------+----------+----+\n",
      "|data_id|iso|event_id_cnty|event_id_no_cnty|event_date|year|time_precision|     event_type|              actor1|assoc_actor_1|inter1|              actor2|       assoc_actor_2|inter2|interaction|     region|  country|    admin1|   admin2| admin3|            location|latitude|longitude|geo_precision|              source|        source_scale|               notes|fatalities| timestamp|iso3|\n",
      "+-------+---+-------------+----------------+----------+----+--------------+---------------+--------------------+-------------+------+--------------------+--------------------+------+-----------+-----------+---------+----------+---------+-------+--------------------+--------+---------+-------------+--------------------+--------------------+--------------------+----------+----------+----+\n",
      "|1366101|275|      PSE1340|            1340|2017-12-31|2017|             1|Remote violence|Military Forces o...|         NULL|     8|                NULL|                NULL|     0|         80|Middle East|Palestine|Gaza Strip|    Rafah|   NULL|Yasser Arafat Int...| 31.2431|  34.2759|            1|                 BBC|       International|Israeli warplanes...|         0|1524053831| PSE|\n",
      "|1366103|275|      PSE1342|            1342|2017-12-31|2017|             1| Riots/Protests|Military Forces o...|         NULL|     8| Rioters (Palestine)|Students (Palestine)|     5|         58|Middle East|Palestine| West Bank|Bethlehem|   NULL|           Al Khadir| 31.6941|  35.1669|            1|Palestine News &I...|      Other-national|Israeli troops ra...|         0|1524053831| PSE|\n",
      "|1666453|364|       IRN271|             271|2017-12-31|2017|             1| Riots/Protests|      Rioters (Iran)|         NULL|     5|Police Forces of ...|                NULL|     1|         15|Middle East|     Iran| Khuzestan|     Izeh|Central|                Izeh| 31.8341|  49.8673|            1|BBC Persian; Huma...|      Other-regional|According to news...|         2|1530482859| IRN|\n",
      "|1666450|364|       IRN268|             268|2017-12-31|2017|             1| Riots/Protests|   Protesters (Iran)|         NULL|     6|                NULL|                NULL|     0|         60|Middle East|     Iran|   Markazi|    Saveh|Central|               Saveh| 35.0213|  50.3566|            1|          RadioFarda|         Subnational|Protests took pla...|         0|1530482859| IRN|\n",
      "|1666451|364|       IRN269|             269|2017-12-31|2017|             1| Riots/Protests|      Rioters (Iran)|         NULL|     5|Police Forces of ...|                NULL|     1|         15|Middle East|     Iran|    Tehran|   Tehran| Tehran|   Tehran-District 6| 35.7252|  51.4029|            1|BBC Persian; Agen...|Regional-internat...|On Sunday night, ...|         0|1530482859| IRN|\n",
      "+-------+---+-------------+----------------+----------+----+--------------+---------------+--------------------+-------------+------+--------------------+--------------------+------+-----------+-----------+---------+----------+---------+-------+--------------------+--------+---------+-------------+--------------------+--------------------+--------------------+----------+----------+----+\n",
      "only showing top 5 rows\n",
      "\n"
     ]
    }
   ],
   "source": [
    "# ACLED Dataset\n",
    "acled = \"asia_conflicts.csv\"\n",
    "acled_df = spark.read.csv(acled, header=True, inferSchema=True)\n",
    "\n",
    "# Transforming event_date to fit the format\n",
    "acled_df = acled_df.withColumn(\"event_date\",\n",
    "                               date_format(to_date(\"event_date\", \"d MMMM yyyy\"), \"yyyy-MM-dd\"))\n",
    "\n",
    "# Filtering for specified scope\n",
    "acled_filtered = acled_df.filter(\n",
    "    (col(\"region\").isin([\"Middle East\", \"South Asia\", \"Southeast Asia\"])) &\n",
    "    (col(\"event_date\").between(\"2015-01-01\", \"2017-12-31\"))\n",
    ")\n",
    "\n",
    "# Result\n",
    "acled_filtered.show(5)"
   ]
  }
 ],
 "metadata": {
  "kernelspec": {
   "display_name": "Python 3",
   "language": "python",
   "name": "python3"
  },
  "language_info": {
   "codemirror_mode": {
    "name": "ipython",
    "version": 3
   },
   "file_extension": ".py",
   "mimetype": "text/x-python",
   "name": "python",
   "nbconvert_exporter": "python",
   "pygments_lexer": "ipython3",
   "version": "3.12.7"
  }
 },
 "nbformat": 4,
 "nbformat_minor": 5
}
